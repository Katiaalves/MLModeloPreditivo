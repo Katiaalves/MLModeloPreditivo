{
  "cells": [
    {
      "cell_type": "markdown",
      "metadata": {
        "id": "4L8eYzgCq18Z"
      },
      "source": [
        "## Parte 2\n",
        "- Analise Exploratória (Variáveis Categóricas)\n",
        "- Tratamento de Valores Missing\n",
        "- Engenharia de Atributos"
      ]
    },
    {
      "cell_type": "code",
      "execution_count": null,
      "metadata": {
        "id": "tuVkIsiVq18a"
      },
      "outputs": [],
      "source": [
        "# Variavel DATA_ASSINATURA_CONTRATO possui 1 registro\n",
        "# Variavel VL_TOTAL_PC_PAGAS possui 4 registros\n",
        "\n",
        "# Excluindo os registros NA (5 registros)\n",
        "df_original.dropna(inplace=True)"
      ]
    },
    {
      "cell_type": "code",
      "execution_count": null,
      "metadata": {
        "id": "Whta4qLlq18b",
        "outputId": "7d3e98b3-60fe-4aa4-c63a-d94f49906291"
      },
      "outputs": [
        {
          "data": {
            "text/plain": [
              "Até 120 Meses        7402\n",
              "181 até 240 Meses    2241\n",
              "121 até 180 Meses     767\n",
              "Name: FAIXA_PRAZO_FINANCIAMENTO, dtype: int64"
            ]
          },
          "execution_count": 19,
          "metadata": {},
          "output_type": "execute_result"
        }
      ],
      "source": [
        "# Criando faixa de prazos para utilizarmos no modelo preditivo\n",
        "bins = [-100, 120, 180, 240]\n",
        "labels = ['Até 120 Meses', '121 até 180 Meses', '181 até 240 Meses']\n",
        "df_original['FAIXA_PRAZO_FINANCIAMENTO'] = pd.cut(df_original['PZ_FINANCIAMENTO'], bins=bins, labels=labels)\n",
        "pd.value_counts(df_original.FAIXA_PRAZO_FINANCIAMENTO)"
      ]
    },
    {
      "cell_type": "code",
      "execution_count": null,
      "metadata": {
        "id": "8bDCGIYPq18e",
        "outputId": "30191011-5683-4d84-e3c4-1dc83cfe7c07"
      },
      "outputs": [
        {
          "data": {
            "text/plain": [
              "201 até 300 mil         3949\n",
              "301 até 400 mil         2098\n",
              "101 até 200 mil         1823\n",
              "401 até 500 mil         1128\n",
              "501 até 750 mil          915\n",
              "De 751 até 1.000.000     236\n",
              "Até 100 mil              167\n",
              "Mais de 1.000.000         94\n",
              "Name: FAIXA_VALOR_FINANCIADO, dtype: int64"
            ]
          },
          "execution_count": 20,
          "metadata": {},
          "output_type": "execute_result"
        }
      ],
      "source": [
        "# Criando faixa salarial para utilizarmos no modelo preditivo\n",
        "bins = [-100, 100000, 200000, 300000, 400000, 500000, 750000, 1000000, 9000000000]\n",
        "labels = ['Até 100 mil', '101 até 200 mil', '201 até 300 mil', '301 até 400 mil', '401 até 500 mil',\n",
        "          '501 até 750 mil', 'De 751 até 1.000.000','Mais de 1.000.000']\n",
        "df_original['FAIXA_VALOR_FINANCIADO'] = pd.cut(df_original['VALOR_FINANCIAMENTO'], bins=bins, labels=labels)\n",
        "pd.value_counts(df_original.FAIXA_VALOR_FINANCIADO)"
      ]
    },
    {
      "cell_type": "code",
      "execution_count": null,
      "metadata": {
        "id": "yYVlJflxq18f"
      },
      "outputs": [],
      "source": [
        "# Podemos retirar a variável TIPO FINANCIAMENTO como vimos anteriormente\n",
        "# Devemos retirar a variável VALOR_FINANCIAMENTO pois criamos uma variavel de faixa de valores para ela.\n",
        "# Devemos retirar a variável PRAZO_FINANCIAMENTO pois criamos uma variavel de faixa de meses para ela.\n",
        "# Podemos retirar a variável DATA_ASSINATURA_CONTRATO\n",
        "# Podemos retirar a variável NUMERO_CONTRATO\n",
        "\n",
        "colunas = ['TAXA_AO_ANO', 'CIDADE_CLIENTE', 'ESTADO_CLIENTE','RENDA_MENSAL_CLIENTE',\n",
        "           'QT_PC_ATRASO', 'QT_DIAS_PRIM_PC_ATRASO','QT_TOTAL_PC_PAGAS',\n",
        "           'VL_TOTAL_PC_PAGAS', 'QT_PC_PAGA_EM_DIA','QT_DIAS_MIN_ATRASO',\n",
        "           'QT_DIAS_MAX_ATRASO', 'QT_DIAS_MEDIA_ATRASO','VALOR_PARCELA',\n",
        "           'IDADE_DATA_ASSINATURA_CONTRATO', 'FAIXA_VALOR_FINANCIADO',\n",
        "           'FAIXA_PRAZO_FINANCIAMENTO','INADIMPLENTE_COBRANCA']\n",
        "\n",
        "df_dados = pd.DataFrame(df_original, columns=colunas)"
      ]
    },
    {
      "cell_type": "code",
      "execution_count": null,
      "metadata": {
        "id": "VSsx0JQXq18g",
        "outputId": "664d0473-708d-4590-a99b-b1c9bef6fe81"
      },
      "outputs": [
        {
          "data": {
            "text/html": [
              "<div>\n",
              "<style scoped>\n",
              "    .dataframe tbody tr th:only-of-type {\n",
              "        vertical-align: middle;\n",
              "    }\n",
              "\n",
              "    .dataframe tbody tr th {\n",
              "        vertical-align: top;\n",
              "    }\n",
              "\n",
              "    .dataframe thead th {\n",
              "        text-align: right;\n",
              "    }\n",
              "</style>\n",
              "<table border=\"1\" class=\"dataframe\">\n",
              "  <thead>\n",
              "    <tr style=\"text-align: right;\">\n",
              "      <th></th>\n",
              "      <th>TAXA_AO_ANO</th>\n",
              "      <th>CIDADE_CLIENTE</th>\n",
              "      <th>ESTADO_CLIENTE</th>\n",
              "      <th>RENDA_MENSAL_CLIENTE</th>\n",
              "      <th>QT_PC_ATRASO</th>\n",
              "      <th>QT_DIAS_PRIM_PC_ATRASO</th>\n",
              "      <th>QT_TOTAL_PC_PAGAS</th>\n",
              "      <th>VL_TOTAL_PC_PAGAS</th>\n",
              "      <th>QT_PC_PAGA_EM_DIA</th>\n",
              "      <th>QT_DIAS_MIN_ATRASO</th>\n",
              "      <th>QT_DIAS_MAX_ATRASO</th>\n",
              "      <th>QT_DIAS_MEDIA_ATRASO</th>\n",
              "      <th>VALOR_PARCELA</th>\n",
              "      <th>IDADE_DATA_ASSINATURA_CONTRATO</th>\n",
              "      <th>FAIXA_VALOR_FINANCIADO</th>\n",
              "      <th>FAIXA_PRAZO_FINANCIAMENTO</th>\n",
              "      <th>INADIMPLENTE_COBRANCA</th>\n",
              "    </tr>\n",
              "  </thead>\n",
              "  <tbody>\n",
              "    <tr>\n",
              "      <th>0</th>\n",
              "      <td>15.0</td>\n",
              "      <td>FORTALEZA</td>\n",
              "      <td>CE</td>\n",
              "      <td>4800.0</td>\n",
              "      <td>0</td>\n",
              "      <td>0</td>\n",
              "      <td>97</td>\n",
              "      <td>120078.00</td>\n",
              "      <td>72</td>\n",
              "      <td>3</td>\n",
              "      <td>506</td>\n",
              "      <td>152</td>\n",
              "      <td>471.29</td>\n",
              "      <td>70.0</td>\n",
              "      <td>Até 100 mil</td>\n",
              "      <td>121 até 180 Meses</td>\n",
              "      <td>SIM</td>\n",
              "    </tr>\n",
              "    <tr>\n",
              "      <th>1</th>\n",
              "      <td>15.0</td>\n",
              "      <td>SAO PAULO</td>\n",
              "      <td>SP</td>\n",
              "      <td>6800.0</td>\n",
              "      <td>0</td>\n",
              "      <td>0</td>\n",
              "      <td>103</td>\n",
              "      <td>156759.47</td>\n",
              "      <td>42</td>\n",
              "      <td>1</td>\n",
              "      <td>349</td>\n",
              "      <td>93</td>\n",
              "      <td>1858.69</td>\n",
              "      <td>28.0</td>\n",
              "      <td>301 até 400 mil</td>\n",
              "      <td>181 até 240 Meses</td>\n",
              "      <td>SIM</td>\n",
              "    </tr>\n",
              "    <tr>\n",
              "      <th>2</th>\n",
              "      <td>18.0</td>\n",
              "      <td>SAO PAULO</td>\n",
              "      <td>SP</td>\n",
              "      <td>6800.0</td>\n",
              "      <td>0</td>\n",
              "      <td>0</td>\n",
              "      <td>98</td>\n",
              "      <td>277125.05</td>\n",
              "      <td>83</td>\n",
              "      <td>1</td>\n",
              "      <td>151</td>\n",
              "      <td>39</td>\n",
              "      <td>3123.57</td>\n",
              "      <td>60.0</td>\n",
              "      <td>501 até 750 mil</td>\n",
              "      <td>181 até 240 Meses</td>\n",
              "      <td>SIM</td>\n",
              "    </tr>\n",
              "    <tr>\n",
              "      <th>3</th>\n",
              "      <td>15.0</td>\n",
              "      <td>SAO PAULO</td>\n",
              "      <td>SP</td>\n",
              "      <td>6800.0</td>\n",
              "      <td>0</td>\n",
              "      <td>0</td>\n",
              "      <td>87</td>\n",
              "      <td>351395.19</td>\n",
              "      <td>66</td>\n",
              "      <td>1</td>\n",
              "      <td>3797</td>\n",
              "      <td>206</td>\n",
              "      <td>2873.58</td>\n",
              "      <td>41.0</td>\n",
              "      <td>401 até 500 mil</td>\n",
              "      <td>181 até 240 Meses</td>\n",
              "      <td>SIM</td>\n",
              "    </tr>\n",
              "    <tr>\n",
              "      <th>4</th>\n",
              "      <td>17.0</td>\n",
              "      <td>SAO PAULO</td>\n",
              "      <td>SP</td>\n",
              "      <td>6800.0</td>\n",
              "      <td>0</td>\n",
              "      <td>0</td>\n",
              "      <td>71</td>\n",
              "      <td>344249.83</td>\n",
              "      <td>57</td>\n",
              "      <td>1</td>\n",
              "      <td>36</td>\n",
              "      <td>10</td>\n",
              "      <td>4224.03</td>\n",
              "      <td>63.0</td>\n",
              "      <td>501 até 750 mil</td>\n",
              "      <td>181 até 240 Meses</td>\n",
              "      <td>SIM</td>\n",
              "    </tr>\n",
              "  </tbody>\n",
              "</table>\n",
              "</div>"
            ],
            "text/plain": [
              "   TAXA_AO_ANO CIDADE_CLIENTE ESTADO_CLIENTE  RENDA_MENSAL_CLIENTE  \\\n",
              "0         15.0      FORTALEZA             CE                4800.0   \n",
              "1         15.0      SAO PAULO             SP                6800.0   \n",
              "2         18.0      SAO PAULO             SP                6800.0   \n",
              "3         15.0      SAO PAULO             SP                6800.0   \n",
              "4         17.0      SAO PAULO             SP                6800.0   \n",
              "\n",
              "   QT_PC_ATRASO  QT_DIAS_PRIM_PC_ATRASO  QT_TOTAL_PC_PAGAS  VL_TOTAL_PC_PAGAS  \\\n",
              "0             0                       0                 97          120078.00   \n",
              "1             0                       0                103          156759.47   \n",
              "2             0                       0                 98          277125.05   \n",
              "3             0                       0                 87          351395.19   \n",
              "4             0                       0                 71          344249.83   \n",
              "\n",
              "   QT_PC_PAGA_EM_DIA  QT_DIAS_MIN_ATRASO  QT_DIAS_MAX_ATRASO  \\\n",
              "0                 72                   3                 506   \n",
              "1                 42                   1                 349   \n",
              "2                 83                   1                 151   \n",
              "3                 66                   1                3797   \n",
              "4                 57                   1                  36   \n",
              "\n",
              "   QT_DIAS_MEDIA_ATRASO  VALOR_PARCELA  IDADE_DATA_ASSINATURA_CONTRATO  \\\n",
              "0                   152         471.29                            70.0   \n",
              "1                    93        1858.69                            28.0   \n",
              "2                    39        3123.57                            60.0   \n",
              "3                   206        2873.58                            41.0   \n",
              "4                    10        4224.03                            63.0   \n",
              "\n",
              "  FAIXA_VALOR_FINANCIADO FAIXA_PRAZO_FINANCIAMENTO INADIMPLENTE_COBRANCA  \n",
              "0            Até 100 mil         121 até 180 Meses                   SIM  \n",
              "1        301 até 400 mil         181 até 240 Meses                   SIM  \n",
              "2        501 até 750 mil         181 até 240 Meses                   SIM  \n",
              "3        401 até 500 mil         181 até 240 Meses                   SIM  \n",
              "4        501 até 750 mil         181 até 240 Meses                   SIM  "
            ]
          },
          "execution_count": 22,
          "metadata": {},
          "output_type": "execute_result"
        }
      ],
      "source": [
        "df_dados.head()"
      ]
    },
    {
      "cell_type": "code",
      "execution_count": null,
      "metadata": {
        "id": "FUKpnf07q18g",
        "outputId": "faab7409-450f-4b36-e680-77f0fa1b2694"
      },
      "outputs": [
        {
          "data": {
            "text/plain": [
              "(10410, 17)"
            ]
          },
          "execution_count": 23,
          "metadata": {},
          "output_type": "execute_result"
        }
      ],
      "source": [
        "df_dados.shape"
      ]
    },
    {
      "cell_type": "code",
      "execution_count": null,
      "metadata": {
        "id": "YEqP0LSpq18h",
        "outputId": "2cfe14b2-6b21-4dd6-e086-174751f7f16b"
      },
      "outputs": [
        {
          "name": "stdout",
          "output_type": "stream",
          "text": [
            "<class 'pandas.core.frame.DataFrame'>\n",
            "Int64Index: 10410 entries, 0 to 10414\n",
            "Data columns (total 17 columns):\n",
            " #   Column                          Non-Null Count  Dtype   \n",
            "---  ------                          --------------  -----   \n",
            " 0   TAXA_AO_ANO                     10410 non-null  float64 \n",
            " 1   CIDADE_CLIENTE                  10410 non-null  object  \n",
            " 2   ESTADO_CLIENTE                  10410 non-null  object  \n",
            " 3   RENDA_MENSAL_CLIENTE            10410 non-null  float64 \n",
            " 4   QT_PC_ATRASO                    10410 non-null  int64   \n",
            " 5   QT_DIAS_PRIM_PC_ATRASO          10410 non-null  int64   \n",
            " 6   QT_TOTAL_PC_PAGAS               10410 non-null  int64   \n",
            " 7   VL_TOTAL_PC_PAGAS               10410 non-null  float64 \n",
            " 8   QT_PC_PAGA_EM_DIA               10410 non-null  int64   \n",
            " 9   QT_DIAS_MIN_ATRASO              10410 non-null  int64   \n",
            " 10  QT_DIAS_MAX_ATRASO              10410 non-null  int64   \n",
            " 11  QT_DIAS_MEDIA_ATRASO            10410 non-null  int64   \n",
            " 12  VALOR_PARCELA                   10410 non-null  float64 \n",
            " 13  IDADE_DATA_ASSINATURA_CONTRATO  10410 non-null  float64 \n",
            " 14  FAIXA_VALOR_FINANCIADO          10410 non-null  category\n",
            " 15  FAIXA_PRAZO_FINANCIAMENTO       10410 non-null  category\n",
            " 16  INADIMPLENTE_COBRANCA           10410 non-null  object  \n",
            "dtypes: category(2), float64(5), int64(7), object(3)\n",
            "memory usage: 1.3+ MB\n"
          ]
        }
      ],
      "source": [
        "df_dados.info(verbose = True)"
      ]
    },
    {
      "cell_type": "code",
      "execution_count": null,
      "metadata": {
        "id": "PTkUGDrGq18h",
        "outputId": "b1a938f7-60d8-4514-cc3e-5f53e2d91d20"
      },
      "outputs": [
        {
          "data": {
            "text/plain": [
              "TAXA_AO_ANO                       0\n",
              "CIDADE_CLIENTE                    0\n",
              "ESTADO_CLIENTE                    0\n",
              "RENDA_MENSAL_CLIENTE              0\n",
              "QT_PC_ATRASO                      0\n",
              "QT_DIAS_PRIM_PC_ATRASO            0\n",
              "QT_TOTAL_PC_PAGAS                 0\n",
              "VL_TOTAL_PC_PAGAS                 0\n",
              "QT_PC_PAGA_EM_DIA                 0\n",
              "QT_DIAS_MIN_ATRASO                0\n",
              "QT_DIAS_MAX_ATRASO                0\n",
              "QT_DIAS_MEDIA_ATRASO              0\n",
              "VALOR_PARCELA                     0\n",
              "IDADE_DATA_ASSINATURA_CONTRATO    0\n",
              "FAIXA_VALOR_FINANCIADO            0\n",
              "FAIXA_PRAZO_FINANCIAMENTO         0\n",
              "INADIMPLENTE_COBRANCA             0\n",
              "dtype: int64"
            ]
          },
          "execution_count": 25,
          "metadata": {},
          "output_type": "execute_result"
        }
      ],
      "source": [
        "df_dados.isnull().sum()"
      ]
    },
    {
      "cell_type": "code",
      "execution_count": null,
      "metadata": {
        "id": "hu2ciaBHq18i"
      },
      "outputs": [],
      "source": []
    },
    {
      "cell_type": "markdown",
      "metadata": {
        "id": "wb290zJrq18i"
      },
      "source": [
        "### Analise Exploratória - Variáveis Categóricas\n",
        "<br>\n",
        "Nesta analise temos 2 objetivos:<br>\n",
        "1 - Conhecer como a variável alvo (INADIMPLENTE_COBRANCA) está relacionada com as outras variáveis.<br>\n",
        "2 - Iremos avaliar as variáveis categóricas para conhecimento dos dados e descartar variáveis que não fazem sentido."
      ]
    },
    {
      "cell_type": "markdown",
      "metadata": {
        "id": "cnBX4hUvq18i"
      },
      "source": [
        "\n"
      ]
    },
    {
      "cell_type": "code",
      "execution_count": null,
      "metadata": {
        "id": "O9ZtlxyNq18j",
        "outputId": "cc36759a-02a8-48fa-e9b6-5d5878cbd9e7"
      },
      "outputs": [
        {
          "data": {
            "image/png": "[encoded data removed]",
            "text/plain": [
              "<Figure size 432x288 with 1 Axes>"
            ]
          },
          "metadata": {
            "needs_background": "light"
          },
          "output_type": "display_data"
        }
      ],
      "source": [
        "#Analisando como a variavel alvo está distribuida.\n",
        "#Aqui podemos observar que há muito mais cotas como INADIMPLENTE\n",
        "#dessa forma, precisaremos balancear o dataset mais adiante.\n",
        "df_dados.INADIMPLENTE_COBRANCA.value_counts().plot(kind='bar', title='Inadimplentes',color = ['#1F77B4', '#FF7F0E']);"
      ]
    },
    {
      "cell_type": "code",
      "execution_count": null,
      "metadata": {
        "id": "RdWKqCxZq18j",
        "outputId": "976b9a74-451e-4403-ac21-c16fd4f5bc07"
      },
      "outputs": [
        {
          "data": {
            "image/png": "[encoded data removed]",
            "text/plain": [
              "<Figure size 1008x252 with 1 Axes>"
            ]
          },
          "metadata": {
            "needs_background": "light"
          },
          "output_type": "display_data"
        }
      ],
      "source": [
        "#Podemos constatar na analise que não há discrepancias nestas variaveis\n",
        "\n",
        "plt.rcParams[\"figure.figsize\"] = [14.00, 3.50]\n",
        "plt.rcParams[\"figure.autolayout\"] = True\n",
        "sns.countplot(data = df_dados, x = \"FAIXA_VALOR_FINANCIADO\", hue = \"INADIMPLENTE_COBRANCA\")\n",
        "plt.show()"
      ]
    },
    {
      "cell_type": "code",
      "execution_count": null,
      "metadata": {
        "id": "jNaTmfbqq18j",
        "outputId": "a5c4d875-8804-437b-b925-f2eec9a206b0"
      },
      "outputs": [
        {
          "data": {
            "image/png": "[encoded data removed]",
            "text/plain": [
              "<Figure size 864x252 with 1 Axes>"
            ]
          },
          "metadata": {
            "needs_background": "light"
          },
          "output_type": "display_data"
        }
      ],
      "source": [
        "#Podemos constatar na analise que não há discrepancias nestas variaveis\n",
        "\n",
        "plt.rcParams[\"figure.figsize\"] = [12.00, 3.50]\n",
        "plt.rcParams[\"figure.autolayout\"] = True\n",
        "sns.countplot(data = df_dados, x = \"FAIXA_PRAZO_FINANCIAMENTO\", hue = \"INADIMPLENTE_COBRANCA\")\n",
        "plt.show()"
      ]
    },
    {
      "cell_type": "code",
      "execution_count": null,
      "metadata": {
        "id": "L1gZTdAqq18k"
      },
      "outputs": [],
      "source": []
    },
    {
      "cell_type": "code",
      "execution_count": null,
      "metadata": {
        "id": "VKyz-l6Oq18k"
      },
      "outputs": [],
      "source": []
    }
  ],
  "metadata": {
    "kernelspec": {
      "display_name": "Python 3 (ipykernel)",
      "language": "python",
      "name": "python3"
    },
    "language_info": {
      "codemirror_mode": {
        "name": "ipython",
        "version": 3
      },
      "file_extension": ".py",
      "mimetype": "text/x-python",
      "name": "python",
      "nbconvert_exporter": "python",
      "pygments_lexer": "ipython3",
      "version": "3.9.12"
    },
    "colab": {
      "provenance": []
    }
  },
  "nbformat": 4,
  "nbformat_minor": 0
}